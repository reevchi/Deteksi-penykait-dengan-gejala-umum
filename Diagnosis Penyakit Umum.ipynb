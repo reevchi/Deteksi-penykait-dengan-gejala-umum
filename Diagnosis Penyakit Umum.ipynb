{
 "cells": [
  {
   "cell_type": "code",
   "execution_count": null,
   "metadata": {},
   "outputs": [],
   "source": [
    "import pandas as pd\n",
    "from sklearn.model_selection import train_test_split\n",
    "from sklearn.ensemble import RandomForestClassifier\n",
    "from sklearn.preprocessing import StandardScaler, LabelEncoder\n",
    "from sklearn.metrics import accuracy_score, classification_report, confusion_matrix\n"
   ]
  },
  {
   "cell_type": "code",
   "execution_count": null,
   "metadata": {},
   "outputs": [],
   "source": [
    "# Mengimpor dataset\n",
    "data = pd.read_csv('health_data.csv')\n",
    "\n",
    "data.head()"
   ]
  },
  {
   "cell_type": "code",
   "execution_count": null,
   "metadata": {},
   "outputs": [],
   "source": [
    "# Encoding label\n",
    "label_encoder = LabelEncoder()\n",
    "y_encoded = label_encoder.fit_transform(y)"
   ]
  },
  {
   "cell_type": "code",
   "execution_count": null,
   "metadata": {},
   "outputs": [],
   "source": [
    "# Split data menjadi set pelatihan dan pengujian\n",
    "X_train, X_test, y_train, y_test = train_test_split(X, y_encoded, test_size=0.2, random_state=42)"
   ]
  },
  {
   "cell_type": "code",
   "execution_count": null,
   "metadata": {},
   "outputs": [],
   "source": [
    "# Standarisasi data\n",
    "scaler = StandardScaler()\n",
    "X_train_scaled = scaler.fit_transform(X_train)\n",
    "X_test_scaled = scaler.transform(X_test)"
   ]
  },
  {
   "cell_type": "code",
   "execution_count": null,
   "metadata": {},
   "outputs": [],
   "source": [
    "# Melatih model Random Forest\n",
    "model = RandomForestClassifier(n_estimators=100, random_state=42)\n",
    "model.fit(X_train_scaled, y_train)"
   ]
  },
  {
   "cell_type": "code",
   "execution_count": null,
   "metadata": {},
   "outputs": [],
   "source": [
    "# Memprediksi dengan data pengujian\n",
    "y_pred = model.predict(X_test_scaled)\n",
    "\n",
    "# Mengevaluasi akurasi model\n",
    "accuracy = accuracy_score(y_test, y_pred)\n",
    "print(f'Akurasi model: {accuracy * 100:.2f}%')\n",
    "\n",
    "# Laporan klasifikasi\n",
    "report = classification_report(y_test, y_pred, target_names=label_encoder.classes_)\n",
    "print('Classification Report:')\n",
    "print(report)\n",
    "\n",
    "# Matriks kebingungan\n",
    "conf_matrix = confusion_matrix(y_test, y_pred)\n",
    "print('Conf_Matrix:')\n",
    "print(conf_matrix)"
   ]
  },
  {
   "cell_type": "code",
   "execution_count": null,
   "metadata": {},
   "outputs": [],
   "source": [
    "def predict_disease(symptoms):\n",
    "    # Membuat dataframe dari gejala\n",
    "    input_data = pd.DataFrame([symptoms], columns=X.columns)\n",
    "    \n",
    "    # Standarisasi input data\n",
    "    input_data_scaled = scaler.transform(input_data)\n",
    "    \n",
    "    # Memprediksi penyakit\n",
    "    prediction = model.predict(input_data_scaled)\n",
    "    return label_encoder.inverse_transform(prediction)[0]\n",
    "\n",
    "# Contoh penggunaan fungsi prediksi\n",
    "symptoms = {\n",
    "    'fever': 1,\n",
    "    'cough': 1,\n",
    "    'sore_throat': 0,\n",
    "    'shortness_of_breath': 0,\n",
    "    'headache': 1,\n",
    "}\n",
    "\n",
    "predicted_disease = predict_disease(symptoms)\n",
    "print(f'Prediksi penyakit: {predicted_disease}')\n"
   ]
  }
 ],
 "metadata": {
  "language_info": {
   "name": "python"
  }
 },
 "nbformat": 4,
 "nbformat_minor": 2
}
